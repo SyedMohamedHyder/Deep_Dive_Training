{
 "cells": [
  {
   "cell_type": "code",
   "execution_count": 1,
   "metadata": {},
   "outputs": [],
   "source": [
    "def gen_list():\n",
    "    try:\n",
    "        print('Yielding the list')\n",
    "        yield [1, 2, 3, 4]\n",
    "    finally:\n",
    "        print('Exiting the finally')"
   ]
  },
  {
   "cell_type": "code",
   "execution_count": 2,
   "metadata": {},
   "outputs": [],
   "source": [
    "class GenContextManager:\n",
    "    def __init__(self, gen):\n",
    "        self.gen = gen\n",
    "        \n",
    "    def __enter__(self):\n",
    "        return next(self.gen)\n",
    "    \n",
    "    def __exit__(self, exc_type, exc_val, exc_tb):\n",
    "        try:\n",
    "            next(self.gen)\n",
    "        except StopIteration:\n",
    "            pass\n",
    "        return False"
   ]
  },
  {
   "cell_type": "code",
   "execution_count": 4,
   "metadata": {},
   "outputs": [
    {
     "name": "stdout",
     "output_type": "stream",
     "text": [
      "Yielding the list\n",
      "[1, 2, 3, 4]\n",
      "Exiting the finally\n",
      "Over\n"
     ]
    }
   ],
   "source": [
    "with GenContextManager(gen_list()) as lst:\n",
    "    print(lst)\n",
    "print('Over')"
   ]
  },
  {
   "cell_type": "code",
   "execution_count": 5,
   "metadata": {},
   "outputs": [],
   "source": [
    "def contextmgr(fn):\n",
    "    def inner(*args, **kwargs):\n",
    "        gen = fn(*args, **kwargs)\n",
    "        return GenContextManager(gen)\n",
    "    return inner"
   ]
  },
  {
   "cell_type": "code",
   "execution_count": 7,
   "metadata": {},
   "outputs": [],
   "source": [
    "@contextmgr\n",
    "def gen_list():\n",
    "    try:\n",
    "        print('Yielding the list')\n",
    "        yield [1, 2, 3, 4]\n",
    "    finally:\n",
    "        print('Exiting the finally')"
   ]
  },
  {
   "cell_type": "code",
   "execution_count": 8,
   "metadata": {},
   "outputs": [
    {
     "name": "stdout",
     "output_type": "stream",
     "text": [
      "Yielding the list\n",
      "[1, 2, 3, 4]\n",
      "Exiting the finally\n"
     ]
    }
   ],
   "source": [
    "with gen_list() as lst:\n",
    "    print(lst)"
   ]
  },
  {
   "cell_type": "code",
   "execution_count": 9,
   "metadata": {},
   "outputs": [],
   "source": [
    "@contextmgr\n",
    "def open_file(fname, mode ='r'):\n",
    "    try:\n",
    "        print('Opening file')\n",
    "        file = open(fname, mode)\n",
    "        yield file\n",
    "    finally:\n",
    "        print('Closing file')\n",
    "        file.close()"
   ]
  },
  {
   "cell_type": "code",
   "execution_count": 10,
   "metadata": {},
   "outputs": [
    {
     "name": "stdout",
     "output_type": "stream",
     "text": [
      "Opening file\n",
      "Closing file\n"
     ]
    }
   ],
   "source": [
    "with open_file('test.txt', 'w') as file:\n",
    "    file.writelines('Testing.........')"
   ]
  },
  {
   "cell_type": "code",
   "execution_count": 11,
   "metadata": {},
   "outputs": [
    {
     "name": "stdout",
     "output_type": "stream",
     "text": [
      "Opening file\n",
      "['Testing.........']\n",
      "Closing file\n"
     ]
    }
   ],
   "source": [
    "with open_file('test.txt') as file:\n",
    "    print(file.readlines())"
   ]
  },
  {
   "cell_type": "code",
   "execution_count": null,
   "metadata": {},
   "outputs": [],
   "source": []
  }
 ],
 "metadata": {
  "kernelspec": {
   "display_name": "Python 3",
   "language": "python",
   "name": "python3"
  },
  "language_info": {
   "codemirror_mode": {
    "name": "ipython",
    "version": 3
   },
   "file_extension": ".py",
   "mimetype": "text/x-python",
   "name": "python",
   "nbconvert_exporter": "python",
   "pygments_lexer": "ipython3",
   "version": "3.8.5"
  }
 },
 "nbformat": 4,
 "nbformat_minor": 4
}
