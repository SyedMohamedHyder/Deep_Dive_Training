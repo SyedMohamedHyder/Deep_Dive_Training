{
 "cells": [
  {
   "cell_type": "code",
   "execution_count": 2,
   "metadata": {},
   "outputs": [],
   "source": [
    "from collections import deque\n",
    "from timeit import timeit"
   ]
  },
  {
   "cell_type": "code",
   "execution_count": 3,
   "metadata": {},
   "outputs": [],
   "source": [
    "dq = deque(maxlen = 10)"
   ]
  },
  {
   "cell_type": "code",
   "execution_count": 4,
   "metadata": {},
   "outputs": [
    {
     "data": {
      "text/plain": [
       "deque([])"
      ]
     },
     "execution_count": 4,
     "metadata": {},
     "output_type": "execute_result"
    }
   ],
   "source": [
    "dq"
   ]
  },
  {
   "cell_type": "code",
   "execution_count": 5,
   "metadata": {},
   "outputs": [],
   "source": [
    "dq.append(10)"
   ]
  },
  {
   "cell_type": "code",
   "execution_count": 6,
   "metadata": {},
   "outputs": [
    {
     "data": {
      "text/plain": [
       "deque([10])"
      ]
     },
     "execution_count": 6,
     "metadata": {},
     "output_type": "execute_result"
    }
   ],
   "source": [
    "dq"
   ]
  },
  {
   "cell_type": "code",
   "execution_count": 7,
   "metadata": {},
   "outputs": [],
   "source": [
    "dq.append([1, 3, 5])"
   ]
  },
  {
   "cell_type": "code",
   "execution_count": 8,
   "metadata": {},
   "outputs": [
    {
     "data": {
      "text/plain": [
       "deque([10, [1, 3, 5]])"
      ]
     },
     "execution_count": 8,
     "metadata": {},
     "output_type": "execute_result"
    }
   ],
   "source": [
    "dq"
   ]
  },
  {
   "cell_type": "code",
   "execution_count": 10,
   "metadata": {},
   "outputs": [
    {
     "data": {
      "text/plain": [
       "[1, 3, 5]"
      ]
     },
     "execution_count": 10,
     "metadata": {},
     "output_type": "execute_result"
    }
   ],
   "source": [
    "dq.pop()"
   ]
  },
  {
   "cell_type": "code",
   "execution_count": 11,
   "metadata": {},
   "outputs": [
    {
     "data": {
      "text/plain": [
       "deque([10])"
      ]
     },
     "execution_count": 11,
     "metadata": {},
     "output_type": "execute_result"
    }
   ],
   "source": [
    "dq"
   ]
  },
  {
   "cell_type": "code",
   "execution_count": 14,
   "metadata": {},
   "outputs": [],
   "source": [
    "list_size = 10_000\n",
    "\n",
    "def append_to_list(n=list_size):\n",
    "    lst = list()\n",
    "    for i in range(n):\n",
    "        lst.append(i)\n",
    "\n",
    "lst = [i for i in range(list_size)]\n",
    "def pop_from_list(lst=lst):\n",
    "    while len(lst) > 0:\n",
    "        lst.pop()\n",
    "        \n",
    "def insert_to_list(n=list_size):\n",
    "    lst = list()\n",
    "    for i in range(n):\n",
    "        lst.insert(0, i)\n",
    "        \n",
    "lst = [i for i in range(list_size)]\n",
    "def pop_front_of_list(lst=lst):\n",
    "    while len(lst) > 0:\n",
    "        lst.pop(0)"
   ]
  },
  {
   "cell_type": "code",
   "execution_count": 15,
   "metadata": {},
   "outputs": [
    {
     "data": {
      "text/plain": [
       "0.9247557859998778"
      ]
     },
     "execution_count": 15,
     "metadata": {},
     "output_type": "execute_result"
    }
   ],
   "source": [
    "timeit('append_to_list()', globals=globals(), number=1000)"
   ]
  },
  {
   "cell_type": "code",
   "execution_count": 19,
   "metadata": {},
   "outputs": [
    {
     "data": {
      "text/plain": [
       "0.00017103099980886327"
      ]
     },
     "execution_count": 19,
     "metadata": {},
     "output_type": "execute_result"
    }
   ],
   "source": [
    "timeit('pop_from_list()', globals=globals(), number=1000)"
   ]
  },
  {
   "cell_type": "code",
   "execution_count": 17,
   "metadata": {},
   "outputs": [
    {
     "data": {
      "text/plain": [
       "44.31134999299957"
      ]
     },
     "execution_count": 17,
     "metadata": {},
     "output_type": "execute_result"
    }
   ],
   "source": [
    "timeit('insert_to_list()', globals=globals(), number=1000)"
   ]
  },
  {
   "cell_type": "code",
   "execution_count": 20,
   "metadata": {},
   "outputs": [
    {
     "data": {
      "text/plain": [
       "5.31209998371196e-05"
      ]
     },
     "execution_count": 20,
     "metadata": {},
     "output_type": "execute_result"
    }
   ],
   "source": [
    "timeit('pop_front_of_list', globals=globals(), number=1000)"
   ]
  },
  {
   "cell_type": "code",
   "execution_count": 21,
   "metadata": {},
   "outputs": [],
   "source": [
    "deque_size = 10_000\n",
    "\n",
    "def append_to_deque(n=deque_size):\n",
    "    dq = deque()\n",
    "    for i in range(n):\n",
    "        dq.append(i)\n",
    "\n",
    "dq = deque(i for i in range(deque_size))\n",
    "def pop_from_dq(dq=dq):\n",
    "    while len(dq) > 0:\n",
    "        dq.pop()\n",
    "        \n",
    "def insert_to_dq(n=deque_size):\n",
    "    dq=deque()\n",
    "    for i in range(n):\n",
    "        dq.appendleft(i)\n",
    "        \n",
    "dq = deque(i for i in range(deque_size))\n",
    "def pop_front_of_dq(dq = dq):\n",
    "    while len(dq) > 0:\n",
    "        dq.popleft()"
   ]
  },
  {
   "cell_type": "code",
   "execution_count": 22,
   "metadata": {},
   "outputs": [
    {
     "data": {
      "text/plain": [
       "0.994304763999935"
      ]
     },
     "execution_count": 22,
     "metadata": {},
     "output_type": "execute_result"
    }
   ],
   "source": [
    "timeit('append_to_deque()', globals=globals(), number=1000)"
   ]
  },
  {
   "cell_type": "code",
   "execution_count": 23,
   "metadata": {},
   "outputs": [
    {
     "data": {
      "text/plain": [
       "0.002345558000342862"
      ]
     },
     "execution_count": 23,
     "metadata": {},
     "output_type": "execute_result"
    }
   ],
   "source": [
    "timeit('pop_from_dq()', globals=globals(), number=1000)"
   ]
  },
  {
   "cell_type": "code",
   "execution_count": 24,
   "metadata": {},
   "outputs": [
    {
     "data": {
      "text/plain": [
       "0.948993234000227"
      ]
     },
     "execution_count": 24,
     "metadata": {},
     "output_type": "execute_result"
    }
   ],
   "source": [
    "timeit('insert_to_dq()', globals=globals(), number=1000)"
   ]
  },
  {
   "cell_type": "code",
   "execution_count": 25,
   "metadata": {},
   "outputs": [
    {
     "data": {
      "text/plain": [
       "5.669900019711349e-05"
      ]
     },
     "execution_count": 25,
     "metadata": {},
     "output_type": "execute_result"
    }
   ],
   "source": [
    "timeit('pop_front_of_list', globals=globals(), number=1000)"
   ]
  },
  {
   "cell_type": "code",
   "execution_count": 32,
   "metadata": {},
   "outputs": [],
   "source": [
    "def produce_elements(dq, n=36):\n",
    "    for i in range(1, n+1):\n",
    "        dq.appendleft(i)\n",
    "        if len(dq) == dq.maxlen:\n",
    "            print('deque full !\\n')\n",
    "            yield\n",
    "            \n",
    "def consume_elements(dq):\n",
    "    while True:\n",
    "        while len(dq) > 0:\n",
    "            print(dq.pop())\n",
    "        print('deque empty\\n')\n",
    "        yield\n",
    "        \n",
    "def coordinator():\n",
    "    dq = deque(maxlen=10)\n",
    "    producer = produce_elements(dq)\n",
    "    consumer = consume_elements(dq)\n",
    "    while True:\n",
    "        try:\n",
    "            next(producer)\n",
    "        except StopIteration:\n",
    "            break\n",
    "        finally:\n",
    "            next(consumer)"
   ]
  },
  {
   "cell_type": "code",
   "execution_count": 33,
   "metadata": {},
   "outputs": [
    {
     "name": "stdout",
     "output_type": "stream",
     "text": [
      "deque full !\n",
      "\n",
      "1\n",
      "2\n",
      "3\n",
      "4\n",
      "5\n",
      "6\n",
      "7\n",
      "8\n",
      "9\n",
      "10\n",
      "deque empty\n",
      "\n",
      "deque full !\n",
      "\n",
      "11\n",
      "12\n",
      "13\n",
      "14\n",
      "15\n",
      "16\n",
      "17\n",
      "18\n",
      "19\n",
      "20\n",
      "deque empty\n",
      "\n",
      "deque full !\n",
      "\n",
      "21\n",
      "22\n",
      "23\n",
      "24\n",
      "25\n",
      "26\n",
      "27\n",
      "28\n",
      "29\n",
      "30\n",
      "deque empty\n",
      "\n",
      "31\n",
      "32\n",
      "33\n",
      "34\n",
      "35\n",
      "36\n",
      "deque empty\n",
      "\n"
     ]
    }
   ],
   "source": [
    "coordinator()"
   ]
  },
  {
   "cell_type": "code",
   "execution_count": null,
   "metadata": {},
   "outputs": [],
   "source": []
  }
 ],
 "metadata": {
  "kernelspec": {
   "display_name": "Python 3",
   "language": "python",
   "name": "python3"
  },
  "language_info": {
   "codemirror_mode": {
    "name": "ipython",
    "version": 3
   },
   "file_extension": ".py",
   "mimetype": "text/x-python",
   "name": "python",
   "nbconvert_exporter": "python",
   "pygments_lexer": "ipython3",
   "version": "3.8.5"
  }
 },
 "nbformat": 4,
 "nbformat_minor": 4
}
