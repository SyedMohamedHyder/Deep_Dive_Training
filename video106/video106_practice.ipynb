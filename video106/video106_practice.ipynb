{
 "cells": [
  {
   "cell_type": "code",
   "execution_count": 6,
   "metadata": {},
   "outputs": [],
   "source": [
    "from functools import wraps"
   ]
  },
  {
   "cell_type": "code",
   "execution_count": 7,
   "metadata": {},
   "outputs": [],
   "source": [
    "class GenContextManager:\n",
    "    def __init__(self, gen):\n",
    "        self.gen = gen\n",
    "        \n",
    "    def __enter__(self):\n",
    "        return next(self.gen)\n",
    "    \n",
    "    def __exit__(self, exc_type, exc_val, exc_tb):\n",
    "        try:\n",
    "            next(self.gen)\n",
    "        except StopIteration:\n",
    "            pass\n",
    "        return False"
   ]
  },
  {
   "cell_type": "code",
   "execution_count": 14,
   "metadata": {},
   "outputs": [],
   "source": [
    "def context_manager(gen_func):\n",
    "    @wraps(gen_func)\n",
    "    def helper(*args, **kwargs):\n",
    "        gen = gen_func(*args, **kwargs)\n",
    "        ctx = GenContextManager(gen)\n",
    "        return ctx\n",
    "    return helper"
   ]
  },
  {
   "cell_type": "code",
   "execution_count": 15,
   "metadata": {},
   "outputs": [],
   "source": [
    "@context_manager\n",
    "def open_file(fname, mode='r'):\n",
    "    f = open(fname, mode)\n",
    "    try:\n",
    "        print('Opening file')\n",
    "        yield f\n",
    "    finally:\n",
    "        print('Closing file')\n",
    "        f.close()"
   ]
  },
  {
   "cell_type": "code",
   "execution_count": 17,
   "metadata": {},
   "outputs": [
    {
     "name": "stdout",
     "output_type": "stream",
     "text": [
      "Opening file\n",
      "Closing file\n"
     ]
    }
   ],
   "source": [
    "with open_file('test.txt', 'w') as file:\n",
    "    file.write('Hello World')"
   ]
  },
  {
   "cell_type": "code",
   "execution_count": 19,
   "metadata": {},
   "outputs": [],
   "source": [
    "from contextlib import contextmanager"
   ]
  },
  {
   "cell_type": "code",
   "execution_count": 20,
   "metadata": {},
   "outputs": [],
   "source": [
    "from time import perf_counter, sleep"
   ]
  },
  {
   "cell_type": "code",
   "execution_count": 21,
   "metadata": {},
   "outputs": [],
   "source": [
    "from collections import namedtuple"
   ]
  },
  {
   "cell_type": "code",
   "execution_count": 43,
   "metadata": {},
   "outputs": [],
   "source": [
    "@contextmanager\n",
    "def Timer():\n",
    "    timer = dict()\n",
    "    try:\n",
    "        start = perf_counter()\n",
    "        timer['start'] = start\n",
    "        yield timer\n",
    "    finally:\n",
    "        stop = perf_counter()\n",
    "        elapsed = stop - start\n",
    "        timer['stop'] = stop\n",
    "        timer['elapsed'] = elapsed"
   ]
  },
  {
   "cell_type": "code",
   "execution_count": 46,
   "metadata": {},
   "outputs": [
    {
     "name": "stdout",
     "output_type": "stream",
     "text": [
      "{'start': 3831.421375981}\n",
      "{'start': 3831.421375981, 'stop': 3833.423711142, 'elapsed': 2.0023351609997917}\n"
     ]
    }
   ],
   "source": [
    "with Timer() as timer:\n",
    "    print(timer)\n",
    "    sleep(2)\n",
    "print(timer)"
   ]
  },
  {
   "cell_type": "code",
   "execution_count": 47,
   "metadata": {},
   "outputs": [],
   "source": [
    "import sys"
   ]
  },
  {
   "cell_type": "code",
   "execution_count": 50,
   "metadata": {},
   "outputs": [],
   "source": [
    "@contextmanager\n",
    "def out_to_file(fname):\n",
    "    try:\n",
    "        file = open(fname, 'w')\n",
    "        original_stdout = sys.stdout\n",
    "        sys.stdout = file\n",
    "        yield None\n",
    "    finally:\n",
    "        sys.stdout = original_stdout\n",
    "        file.close()"
   ]
  },
  {
   "cell_type": "code",
   "execution_count": 52,
   "metadata": {},
   "outputs": [],
   "source": [
    "with out_to_file('test.txt'):\n",
    "    print('Helloooo World')\n",
    "    print('How are you')"
   ]
  },
  {
   "cell_type": "code",
   "execution_count": 53,
   "metadata": {},
   "outputs": [
    {
     "name": "stdout",
     "output_type": "stream",
     "text": [
      "Back\n"
     ]
    }
   ],
   "source": [
    "print('Back')"
   ]
  },
  {
   "cell_type": "code",
   "execution_count": 54,
   "metadata": {},
   "outputs": [],
   "source": [
    "from contextlib import redirect_stdout"
   ]
  },
  {
   "cell_type": "code",
   "execution_count": 55,
   "metadata": {},
   "outputs": [],
   "source": [
    "with open('test2.txt', 'w') as file:\n",
    "    with redirect_stdout(file):\n",
    "        print('Helloooo World')\n",
    "        print('How are you')\n",
    "        print('Back')"
   ]
  },
  {
   "cell_type": "code",
   "execution_count": 56,
   "metadata": {},
   "outputs": [
    {
     "name": "stdout",
     "output_type": "stream",
     "text": [
      "Again Back\n"
     ]
    }
   ],
   "source": [
    "print('Again Back')"
   ]
  },
  {
   "cell_type": "code",
   "execution_count": null,
   "metadata": {},
   "outputs": [],
   "source": []
  }
 ],
 "metadata": {
  "kernelspec": {
   "display_name": "Python 3",
   "language": "python",
   "name": "python3"
  },
  "language_info": {
   "codemirror_mode": {
    "name": "ipython",
    "version": 3
   },
   "file_extension": ".py",
   "mimetype": "text/x-python",
   "name": "python",
   "nbconvert_exporter": "python",
   "pygments_lexer": "ipython3",
   "version": "3.8.5"
  }
 },
 "nbformat": 4,
 "nbformat_minor": 4
}
