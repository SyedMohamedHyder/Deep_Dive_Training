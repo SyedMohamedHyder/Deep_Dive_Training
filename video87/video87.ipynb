{
 "cells": [
  {
   "cell_type": "code",
   "execution_count": 1,
   "metadata": {},
   "outputs": [],
   "source": [
    "import itertools"
   ]
  },
  {
   "cell_type": "code",
   "execution_count": 3,
   "metadata": {},
   "outputs": [
    {
     "name": "stdout",
     "output_type": "stream",
     "text": [
      "make,model\n",
      "\n",
      "ACURA,ILX\n",
      "ACURA,MDX\n",
      "ACURA,RDX\n",
      "ACURA,RLX\n",
      "ACURA,TL\n",
      "ACURA,TSX\n",
      "ALFA ROMEO,4C\n",
      "ALFA ROMEO,GIULIETTA\n",
      "APRILIA,CAPONORD 1200\n",
      "APRILIA,RSV4 FACTORY APRC ABS\n",
      "APRILIA,RSV4 R APRC ABS\n",
      "APRILIA,SHIVER 750\n",
      "ARCTIC CAT,1000 XT\n",
      "ARCTIC CAT,500 XT\n",
      "ARCTIC CAT,550 XT\n"
     ]
    }
   ],
   "source": [
    "with open('cars_2014.csv', 'r') as file:\n",
    "    print(next(file))\n",
    "    for line in itertools.islice(file,0,15):\n",
    "        print(line, end='')"
   ]
  },
  {
   "cell_type": "code",
   "execution_count": 6,
   "metadata": {},
   "outputs": [
    {
     "name": "stdout",
     "output_type": "stream",
     "text": [
      "ACURA 6\n",
      "ALFA ROMEO 2\n",
      "APRILIA 4\n",
      "ARCTIC CAT 96\n",
      "ARGO 4\n",
      "ASTON MARTIN 5\n",
      "AUDI 27\n",
      "BENTLEY 2\n",
      "BLUE BIRD 1\n",
      "BMW 86\n",
      "BUGATTI 1\n",
      "BUICK 5\n",
      "CADILLAC 7\n",
      "CAN-AM 61\n",
      "CHEVROLET 33\n",
      "CHRYSLER 2\n",
      "DODGE 7\n",
      "DUCATI 4\n",
      "FERRARI 6\n",
      "FIAT 2\n",
      "FORD 34\n",
      "FREIGHTLINER 7\n",
      "GMC 12\n",
      "HARLEY DAVIDSON 29\n",
      "HINO 7\n",
      "HONDA 91\n",
      "HUSABERG 4\n",
      "HUSQVARNA 9\n",
      "HYUNDAI 13\n",
      "INDIAN 3\n",
      "INFINITI 8\n",
      "JAGUAR 9\n",
      "JEEP 5\n",
      "JOHN DEERE 19\n",
      "KAWASAKI 59\n",
      "KENWORTH 11\n",
      "KIA 10\n",
      "KTM 13\n",
      "KUBOTA 4\n",
      "KYMCO 28\n",
      "LAMBORGHINI 2\n",
      "LAND ROVER 6\n",
      "LEXUS 14\n",
      "LINCOLN 6\n",
      "LOTUS 1\n",
      "MACK 9\n",
      "MASERATI 3\n",
      "MAZDA 5\n",
      "MCLAREN 2\n",
      "MERCEDES-BENZ 60\n",
      "MINI 3\n",
      "MITSUBISHI 8\n",
      "NISSAN 24\n",
      "PEUGEOT 3\n",
      "POLARIS 101\n",
      "PORSCHE 4\n",
      "RAM 6\n",
      "RENAULT 4\n",
      "ROLLS ROYCE 3\n",
      "SCION 5\n",
      "SEAT 3\n",
      "SKI-DOO 67\n",
      "SMART 1\n",
      "SRT 1\n",
      "SUBARU 10\n",
      "SUZUKI 48\n",
      "TESLA 2\n",
      "TOYOTA 19\n",
      "TRIUMPH 10\n",
      "VESPA 4\n",
      "VICTORY 14\n",
      "VOLKSWAGEN 16\n",
      "VOLVO 8\n",
      "YAMAHA 110\n"
     ]
    }
   ],
   "source": [
    "num_makes = dict()\n",
    "with open('cars_2014.csv', 'r') as file:\n",
    "    next(file)\n",
    "    for line in file:\n",
    "        make, model = line.strip().split(',')\n",
    "        num_makes[make] = num_makes.get(make, 0) + 1\n",
    "for make, number in num_makes.items():\n",
    "    print(make, number)"
   ]
  },
  {
   "cell_type": "code",
   "execution_count": 20,
   "metadata": {},
   "outputs": [],
   "source": [
    "data = (1,1,1,2,3,3,3,3,3,3,4,4)"
   ]
  },
  {
   "cell_type": "code",
   "execution_count": 21,
   "metadata": {},
   "outputs": [],
   "source": [
    "groups = (itertools.groupby(data))"
   ]
  },
  {
   "cell_type": "code",
   "execution_count": 13,
   "metadata": {},
   "outputs": [
    {
     "data": {
      "text/plain": [
       "[(1, <itertools._grouper at 0x7f1f001e7eb0>),\n",
       " (2, <itertools._grouper at 0x7f1f001e7e80>),\n",
       " (3, <itertools._grouper at 0x7f1f001e7e50>),\n",
       " (4, <itertools._grouper at 0x7f1f001e7d30>)]"
      ]
     },
     "execution_count": 13,
     "metadata": {},
     "output_type": "execute_result"
    }
   ],
   "source": [
    "groups"
   ]
  },
  {
   "cell_type": "code",
   "execution_count": 14,
   "metadata": {},
   "outputs": [
    {
     "ename": "StopIteration",
     "evalue": "",
     "output_type": "error",
     "traceback": [
      "\u001b[0;31m---------------------------------------------------------------------------\u001b[0m",
      "\u001b[0;31mStopIteration\u001b[0m                             Traceback (most recent call last)",
      "\u001b[0;32m<ipython-input-14-b8a41b34f32a>\u001b[0m in \u001b[0;36m<module>\u001b[0;34m\u001b[0m\n\u001b[0;32m----> 1\u001b[0;31m \u001b[0mnext\u001b[0m\u001b[0;34m(\u001b[0m\u001b[0mgroups\u001b[0m\u001b[0;34m[\u001b[0m\u001b[0;36m0\u001b[0m\u001b[0;34m]\u001b[0m\u001b[0;34m[\u001b[0m\u001b[0;36m1\u001b[0m\u001b[0;34m]\u001b[0m\u001b[0;34m)\u001b[0m\u001b[0;34m\u001b[0m\u001b[0;34m\u001b[0m\u001b[0m\n\u001b[0m",
      "\u001b[0;31mStopIteration\u001b[0m: "
     ]
    }
   ],
   "source": [
    "next(groups[0][1])"
   ]
  },
  {
   "cell_type": "code",
   "execution_count": 24,
   "metadata": {},
   "outputs": [
    {
     "ename": "StopIteration",
     "evalue": "",
     "output_type": "error",
     "traceback": [
      "\u001b[0;31m---------------------------------------------------------------------------\u001b[0m",
      "\u001b[0;31mStopIteration\u001b[0m                             Traceback (most recent call last)",
      "\u001b[0;32m<ipython-input-24-b575ef934fb8>\u001b[0m in \u001b[0;36m<module>\u001b[0;34m\u001b[0m\n\u001b[0;32m----> 1\u001b[0;31m \u001b[0mnext\u001b[0m\u001b[0;34m(\u001b[0m\u001b[0mgroups\u001b[0m\u001b[0;34m[\u001b[0m\u001b[0;36m3\u001b[0m\u001b[0;34m]\u001b[0m\u001b[0;34m[\u001b[0m\u001b[0;36m1\u001b[0m\u001b[0;34m]\u001b[0m\u001b[0;34m)\u001b[0m\u001b[0;34m\u001b[0m\u001b[0;34m\u001b[0m\u001b[0m\n\u001b[0m",
      "\u001b[0;31mStopIteration\u001b[0m: "
     ]
    }
   ],
   "source": [
    "next(groups[3][1])"
   ]
  },
  {
   "cell_type": "code",
   "execution_count": 25,
   "metadata": {},
   "outputs": [],
   "source": [
    "data = (1,1,1,2,3,3,3,3,3,3,4,4)"
   ]
  },
  {
   "cell_type": "code",
   "execution_count": 26,
   "metadata": {},
   "outputs": [],
   "source": [
    "groups = itertools.groupby(data)"
   ]
  },
  {
   "cell_type": "code",
   "execution_count": 27,
   "metadata": {},
   "outputs": [
    {
     "name": "stdout",
     "output_type": "stream",
     "text": [
      "1 [1, 1, 1]\n",
      "2 [2]\n",
      "3 [3, 3, 3, 3, 3, 3]\n",
      "4 [4, 4]\n"
     ]
    }
   ],
   "source": [
    "for group in groups:\n",
    "    print(group[0], list(group[1]))"
   ]
  },
  {
   "cell_type": "code",
   "execution_count": 28,
   "metadata": {},
   "outputs": [],
   "source": [
    "groups = list(itertools.groupby(data))"
   ]
  },
  {
   "cell_type": "code",
   "execution_count": 29,
   "metadata": {},
   "outputs": [
    {
     "name": "stdout",
     "output_type": "stream",
     "text": [
      "1 []\n",
      "2 []\n",
      "3 []\n",
      "4 []\n"
     ]
    }
   ],
   "source": [
    "for group in groups:\n",
    "    print(group[0], list(group[1]))"
   ]
  },
  {
   "cell_type": "code",
   "execution_count": 30,
   "metadata": {},
   "outputs": [],
   "source": [
    "groups = itertools.groupby(data)"
   ]
  },
  {
   "cell_type": "code",
   "execution_count": 31,
   "metadata": {},
   "outputs": [],
   "source": [
    "groups = list(itertools.groupby(data))"
   ]
  },
  {
   "cell_type": "code",
   "execution_count": 32,
   "metadata": {},
   "outputs": [
    {
     "name": "stdout",
     "output_type": "stream",
     "text": [
      "1 []\n",
      "2 []\n",
      "3 []\n",
      "4 []\n"
     ]
    }
   ],
   "source": [
    "for group in groups:\n",
    "    print(group[0], list(group[1]))"
   ]
  },
  {
   "cell_type": "code",
   "execution_count": 33,
   "metadata": {},
   "outputs": [],
   "source": [
    "groups = itertools.groupby(data)"
   ]
  },
  {
   "cell_type": "code",
   "execution_count": 34,
   "metadata": {},
   "outputs": [],
   "source": [
    "group1 = next(groups)"
   ]
  },
  {
   "cell_type": "code",
   "execution_count": 35,
   "metadata": {},
   "outputs": [
    {
     "data": {
      "text/plain": [
       "(1, <itertools._grouper at 0x7f1f001e7f10>)"
      ]
     },
     "execution_count": 35,
     "metadata": {},
     "output_type": "execute_result"
    }
   ],
   "source": [
    "group1"
   ]
  },
  {
   "cell_type": "code",
   "execution_count": 42,
   "metadata": {},
   "outputs": [],
   "source": [
    "with open('cars_2014.csv', 'r') as file:\n",
    "    next(file)\n",
    "    make_count = {make : sum(1 for model in models)\n",
    "        for make, models in itertools.groupby(\n",
    "            file,lambda line : line.split(',')[0])\n",
    "    }"
   ]
  },
  {
   "cell_type": "code",
   "execution_count": 43,
   "metadata": {},
   "outputs": [
    {
     "data": {
      "text/plain": [
       "{'ACURA': 6,\n",
       " 'ALFA ROMEO': 2,\n",
       " 'APRILIA': 4,\n",
       " 'ARCTIC CAT': 96,\n",
       " 'ARGO': 4,\n",
       " 'ASTON MARTIN': 5,\n",
       " 'AUDI': 27,\n",
       " 'BENTLEY': 2,\n",
       " 'BLUE BIRD': 1,\n",
       " 'BMW': 86,\n",
       " 'BUGATTI': 1,\n",
       " 'BUICK': 5,\n",
       " 'CADILLAC': 7,\n",
       " 'CAN-AM': 61,\n",
       " 'CHEVROLET': 33,\n",
       " 'CHRYSLER': 2,\n",
       " 'DODGE': 7,\n",
       " 'DUCATI': 4,\n",
       " 'FERRARI': 6,\n",
       " 'FIAT': 2,\n",
       " 'FORD': 34,\n",
       " 'FREIGHTLINER': 7,\n",
       " 'GMC': 12,\n",
       " 'HARLEY DAVIDSON': 29,\n",
       " 'HINO': 7,\n",
       " 'HONDA': 91,\n",
       " 'HUSABERG': 4,\n",
       " 'HUSQVARNA': 9,\n",
       " 'HYUNDAI': 13,\n",
       " 'INDIAN': 3,\n",
       " 'INFINITI': 8,\n",
       " 'JAGUAR': 9,\n",
       " 'JEEP': 5,\n",
       " 'JOHN DEERE': 19,\n",
       " 'KAWASAKI': 59,\n",
       " 'KENWORTH': 11,\n",
       " 'KIA': 10,\n",
       " 'KTM': 13,\n",
       " 'KUBOTA': 4,\n",
       " 'KYMCO': 28,\n",
       " 'LAMBORGHINI': 2,\n",
       " 'LAND ROVER': 6,\n",
       " 'LEXUS': 14,\n",
       " 'LINCOLN': 6,\n",
       " 'LOTUS': 1,\n",
       " 'MACK': 9,\n",
       " 'MASERATI': 3,\n",
       " 'MAZDA': 5,\n",
       " 'MCLAREN': 2,\n",
       " 'MERCEDES-BENZ': 60,\n",
       " 'MINI': 3,\n",
       " 'MITSUBISHI': 8,\n",
       " 'NISSAN': 24,\n",
       " 'PEUGEOT': 3,\n",
       " 'POLARIS': 101,\n",
       " 'PORSCHE': 4,\n",
       " 'RAM': 6,\n",
       " 'RENAULT': 4,\n",
       " 'ROLLS ROYCE': 3,\n",
       " 'SCION': 5,\n",
       " 'SEAT': 3,\n",
       " 'SKI-DOO': 67,\n",
       " 'SMART': 1,\n",
       " 'SRT': 1,\n",
       " 'SUBARU': 10,\n",
       " 'SUZUKI': 48,\n",
       " 'TESLA': 2,\n",
       " 'TOYOTA': 19,\n",
       " 'TRIUMPH': 10,\n",
       " 'VESPA': 4,\n",
       " 'VICTORY': 14,\n",
       " 'VOLKSWAGEN': 16,\n",
       " 'VOLVO': 8,\n",
       " 'YAMAHA': 110}"
      ]
     },
     "execution_count": 43,
     "metadata": {},
     "output_type": "execute_result"
    }
   ],
   "source": [
    "make_count"
   ]
  },
  {
   "cell_type": "code",
   "execution_count": 48,
   "metadata": {},
   "outputs": [
    {
     "name": "stdout",
     "output_type": "stream",
     "text": [
      "True\n"
     ]
    }
   ],
   "source": [
    "same = True\n",
    "for value1, value2 in zip(num_makes.items(), make_count.items()):\n",
    "    if not value1 == value2:\n",
    "        same = False\n",
    "print(same)"
   ]
  },
  {
   "cell_type": "code",
   "execution_count": null,
   "metadata": {},
   "outputs": [],
   "source": []
  }
 ],
 "metadata": {
  "kernelspec": {
   "display_name": "Python 3",
   "language": "python",
   "name": "python3"
  },
  "language_info": {
   "codemirror_mode": {
    "name": "ipython",
    "version": 3
   },
   "file_extension": ".py",
   "mimetype": "text/x-python",
   "name": "python",
   "nbconvert_exporter": "python",
   "pygments_lexer": "ipython3",
   "version": "3.8.5"
  }
 },
 "nbformat": 4,
 "nbformat_minor": 4
}
