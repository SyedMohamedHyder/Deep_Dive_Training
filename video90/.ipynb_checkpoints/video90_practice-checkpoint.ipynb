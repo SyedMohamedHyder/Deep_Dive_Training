{
 "cells": [
  {
   "cell_type": "code",
   "execution_count": 1,
   "metadata": {},
   "outputs": [],
   "source": [
    "import itertools\n",
    "from collections import namedtuple"
   ]
  },
  {
   "cell_type": "code",
   "execution_count": 4,
   "metadata": {},
   "outputs": [],
   "source": [
    "Card = namedtuple('Card', 'rank suit')\n",
    "def card():\n",
    "    ranks = tuple(range(2,11)) + tuple('JQKA')\n",
    "    suits = 'SCDH'\n",
    "    for suit, rank in itertools.product(suits, ranks):\n",
    "        yield Card(rank, suit)"
   ]
  },
  {
   "cell_type": "code",
   "execution_count": 5,
   "metadata": {},
   "outputs": [
    {
     "data": {
      "text/plain": [
       "[Card(rank=2, suit='S'),\n",
       " Card(rank=3, suit='S'),\n",
       " Card(rank=4, suit='S'),\n",
       " Card(rank=5, suit='S'),\n",
       " Card(rank=6, suit='S'),\n",
       " Card(rank=7, suit='S'),\n",
       " Card(rank=8, suit='S'),\n",
       " Card(rank=9, suit='S'),\n",
       " Card(rank=10, suit='S'),\n",
       " Card(rank='J', suit='S'),\n",
       " Card(rank='Q', suit='S'),\n",
       " Card(rank='K', suit='S'),\n",
       " Card(rank='A', suit='S'),\n",
       " Card(rank=2, suit='C'),\n",
       " Card(rank=3, suit='C'),\n",
       " Card(rank=4, suit='C'),\n",
       " Card(rank=5, suit='C'),\n",
       " Card(rank=6, suit='C'),\n",
       " Card(rank=7, suit='C'),\n",
       " Card(rank=8, suit='C'),\n",
       " Card(rank=9, suit='C'),\n",
       " Card(rank=10, suit='C'),\n",
       " Card(rank='J', suit='C'),\n",
       " Card(rank='Q', suit='C'),\n",
       " Card(rank='K', suit='C'),\n",
       " Card(rank='A', suit='C'),\n",
       " Card(rank=2, suit='D'),\n",
       " Card(rank=3, suit='D'),\n",
       " Card(rank=4, suit='D'),\n",
       " Card(rank=5, suit='D'),\n",
       " Card(rank=6, suit='D'),\n",
       " Card(rank=7, suit='D'),\n",
       " Card(rank=8, suit='D'),\n",
       " Card(rank=9, suit='D'),\n",
       " Card(rank=10, suit='D'),\n",
       " Card(rank='J', suit='D'),\n",
       " Card(rank='Q', suit='D'),\n",
       " Card(rank='K', suit='D'),\n",
       " Card(rank='A', suit='D'),\n",
       " Card(rank=2, suit='H'),\n",
       " Card(rank=3, suit='H'),\n",
       " Card(rank=4, suit='H'),\n",
       " Card(rank=5, suit='H'),\n",
       " Card(rank=6, suit='H'),\n",
       " Card(rank=7, suit='H'),\n",
       " Card(rank=8, suit='H'),\n",
       " Card(rank=9, suit='H'),\n",
       " Card(rank=10, suit='H'),\n",
       " Card(rank='J', suit='H'),\n",
       " Card(rank='Q', suit='H'),\n",
       " Card(rank='K', suit='H'),\n",
       " Card(rank='A', suit='H')]"
      ]
     },
     "execution_count": 5,
     "metadata": {},
     "output_type": "execute_result"
    }
   ],
   "source": [
    "list(card())"
   ]
  },
  {
   "cell_type": "code",
   "execution_count": 7,
   "metadata": {},
   "outputs": [
    {
     "name": "stdout",
     "output_type": "stream",
     "text": [
      "270725\n",
      "1\n"
     ]
    }
   ],
   "source": [
    "deck = card()\n",
    "sample_space = itertools.combinations(deck, 4)\n",
    "total = 0\n",
    "acceptable = 0\n",
    "for cards in sample_space:\n",
    "    total += 1\n",
    "    if all(card.rank=='A' for card in cards):\n",
    "        acceptable += 1\n",
    "print(total)\n",
    "print(acceptable)"
   ]
  },
  {
   "cell_type": "code",
   "execution_count": null,
   "metadata": {},
   "outputs": [],
   "source": []
  }
 ],
 "metadata": {
  "kernelspec": {
   "display_name": "Python 3",
   "language": "python",
   "name": "python3"
  },
  "language_info": {
   "codemirror_mode": {
    "name": "ipython",
    "version": 3
   },
   "file_extension": ".py",
   "mimetype": "text/x-python",
   "name": "python",
   "nbconvert_exporter": "python",
   "pygments_lexer": "ipython3",
   "version": "3.8.5"
  }
 },
 "nbformat": 4,
 "nbformat_minor": 4
}
