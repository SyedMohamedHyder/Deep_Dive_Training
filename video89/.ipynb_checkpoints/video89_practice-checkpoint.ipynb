{
 "cells": [
  {
   "cell_type": "code",
   "execution_count": 1,
   "metadata": {},
   "outputs": [],
   "source": [
    "import itertools"
   ]
  },
  {
   "cell_type": "code",
   "execution_count": 8,
   "metadata": {},
   "outputs": [],
   "source": [
    "def matrix(n):\n",
    "    for i in range(1, n+1):\n",
    "        for j in range(1, n+1):\n",
    "            yield f'{i} x {j} = {i*j}'"
   ]
  },
  {
   "cell_type": "code",
   "execution_count": 9,
   "metadata": {},
   "outputs": [
    {
     "data": {
      "text/plain": [
       "['2 x 1 = 2',\n",
       " '2 x 2 = 4',\n",
       " '2 x 3 = 6',\n",
       " '2 x 4 = 8',\n",
       " '2 x 5 = 10',\n",
       " '2 x 6 = 12',\n",
       " '2 x 7 = 14',\n",
       " '2 x 8 = 16',\n",
       " '2 x 9 = 18',\n",
       " '2 x 10 = 20']"
      ]
     },
     "execution_count": 9,
     "metadata": {},
     "output_type": "execute_result"
    }
   ],
   "source": [
    "list(itertools.islice(matrix(10),10,20))"
   ]
  },
  {
   "cell_type": "code",
   "execution_count": 12,
   "metadata": {},
   "outputs": [],
   "source": [
    "def matrix(n):\n",
    "    for i, j in itertools.product(*itertools.tee(range(1, n+1),2)):\n",
    "        yield f'{i} x {j} = {i*j}'"
   ]
  },
  {
   "cell_type": "code",
   "execution_count": 14,
   "metadata": {},
   "outputs": [
    {
     "data": {
      "text/plain": [
       "['1 x 1 = 1',\n",
       " '1 x 2 = 2',\n",
       " '1 x 3 = 3',\n",
       " '1 x 4 = 4',\n",
       " '1 x 5 = 5',\n",
       " '2 x 1 = 2',\n",
       " '2 x 2 = 4',\n",
       " '2 x 3 = 6',\n",
       " '2 x 4 = 8',\n",
       " '2 x 5 = 10',\n",
       " '3 x 1 = 3',\n",
       " '3 x 2 = 6',\n",
       " '3 x 3 = 9',\n",
       " '3 x 4 = 12',\n",
       " '3 x 5 = 15',\n",
       " '4 x 1 = 4',\n",
       " '4 x 2 = 8',\n",
       " '4 x 3 = 12',\n",
       " '4 x 4 = 16',\n",
       " '4 x 5 = 20',\n",
       " '5 x 1 = 5',\n",
       " '5 x 2 = 10',\n",
       " '5 x 3 = 15',\n",
       " '5 x 4 = 20',\n",
       " '5 x 5 = 25']"
      ]
     },
     "execution_count": 14,
     "metadata": {},
     "output_type": "execute_result"
    }
   ],
   "source": [
    "list(matrix(5))"
   ]
  },
  {
   "cell_type": "code",
   "execution_count": 20,
   "metadata": {},
   "outputs": [],
   "source": [
    "def grid(start, stop, step=1, *, dimensions=2):\n",
    "    axis = itertools.takewhile(lambda number: number<= stop, itertools.count(start, step))\n",
    "    axes = itertools.tee(axis, dimensions)\n",
    "    yield from itertools.product(*axes)"
   ]
  },
  {
   "cell_type": "code",
   "execution_count": 23,
   "metadata": {},
   "outputs": [
    {
     "data": {
      "text/plain": [
       "[(-1, -1), (-1, 1), (1, -1), (1, 1)]"
      ]
     },
     "execution_count": 23,
     "metadata": {},
     "output_type": "execute_result"
    }
   ],
   "source": [
    "list(grid(-1,2,2))"
   ]
  },
  {
   "cell_type": "code",
   "execution_count": 26,
   "metadata": {},
   "outputs": [
    {
     "data": {
      "text/plain": [
       "[(-1, 1), (1, -1)]"
      ]
     },
     "execution_count": 26,
     "metadata": {},
     "output_type": "execute_result"
    }
   ],
   "source": [
    "list(itertools.permutations(range(-1,2,2), 2))"
   ]
  },
  {
   "cell_type": "code",
   "execution_count": 27,
   "metadata": {},
   "outputs": [],
   "source": [
    "from collections import namedtuple"
   ]
  },
  {
   "cell_type": "code",
   "execution_count": 29,
   "metadata": {},
   "outputs": [],
   "source": [
    "Card = namedtuple('Card', 'rank suit')"
   ]
  },
  {
   "cell_type": "code",
   "execution_count": 30,
   "metadata": {},
   "outputs": [],
   "source": [
    "suits = 'SHCD'\n",
    "ranks = tuple(range(2,11)) + tuple('JQKA')"
   ]
  },
  {
   "cell_type": "code",
   "execution_count": 33,
   "metadata": {},
   "outputs": [],
   "source": [
    "deck = (Card(rank, suit) for suit, rank in itertools.product(suits, ranks))"
   ]
  },
  {
   "cell_type": "code",
   "execution_count": 34,
   "metadata": {},
   "outputs": [
    {
     "data": {
      "text/plain": [
       "[Card(rank=2, suit='S'),\n",
       " Card(rank=3, suit='S'),\n",
       " Card(rank=4, suit='S'),\n",
       " Card(rank=5, suit='S'),\n",
       " Card(rank=6, suit='S'),\n",
       " Card(rank=7, suit='S'),\n",
       " Card(rank=8, suit='S'),\n",
       " Card(rank=9, suit='S'),\n",
       " Card(rank=10, suit='S'),\n",
       " Card(rank='J', suit='S'),\n",
       " Card(rank='Q', suit='S'),\n",
       " Card(rank='K', suit='S'),\n",
       " Card(rank='A', suit='S'),\n",
       " Card(rank=2, suit='H'),\n",
       " Card(rank=3, suit='H'),\n",
       " Card(rank=4, suit='H'),\n",
       " Card(rank=5, suit='H'),\n",
       " Card(rank=6, suit='H'),\n",
       " Card(rank=7, suit='H'),\n",
       " Card(rank=8, suit='H'),\n",
       " Card(rank=9, suit='H'),\n",
       " Card(rank=10, suit='H'),\n",
       " Card(rank='J', suit='H'),\n",
       " Card(rank='Q', suit='H'),\n",
       " Card(rank='K', suit='H'),\n",
       " Card(rank='A', suit='H'),\n",
       " Card(rank=2, suit='C'),\n",
       " Card(rank=3, suit='C'),\n",
       " Card(rank=4, suit='C'),\n",
       " Card(rank=5, suit='C'),\n",
       " Card(rank=6, suit='C'),\n",
       " Card(rank=7, suit='C'),\n",
       " Card(rank=8, suit='C'),\n",
       " Card(rank=9, suit='C'),\n",
       " Card(rank=10, suit='C'),\n",
       " Card(rank='J', suit='C'),\n",
       " Card(rank='Q', suit='C'),\n",
       " Card(rank='K', suit='C'),\n",
       " Card(rank='A', suit='C'),\n",
       " Card(rank=2, suit='D'),\n",
       " Card(rank=3, suit='D'),\n",
       " Card(rank=4, suit='D'),\n",
       " Card(rank=5, suit='D'),\n",
       " Card(rank=6, suit='D'),\n",
       " Card(rank=7, suit='D'),\n",
       " Card(rank=8, suit='D'),\n",
       " Card(rank=9, suit='D'),\n",
       " Card(rank=10, suit='D'),\n",
       " Card(rank='J', suit='D'),\n",
       " Card(rank='Q', suit='D'),\n",
       " Card(rank='K', suit='D'),\n",
       " Card(rank='A', suit='D')]"
      ]
     },
     "execution_count": 34,
     "metadata": {},
     "output_type": "execute_result"
    }
   ],
   "source": [
    "list(deck)"
   ]
  },
  {
   "cell_type": "code",
   "execution_count": 35,
   "metadata": {},
   "outputs": [],
   "source": [
    "deck = (Card(rank, suit) for suit, rank in itertools.product(suits, ranks))"
   ]
  },
  {
   "cell_type": "code",
   "execution_count": null,
   "metadata": {},
   "outputs": [],
   "source": []
  }
 ],
 "metadata": {
  "kernelspec": {
   "display_name": "Python 3",
   "language": "python",
   "name": "python3"
  },
  "language_info": {
   "codemirror_mode": {
    "name": "ipython",
    "version": 3
   },
   "file_extension": ".py",
   "mimetype": "text/x-python",
   "name": "python",
   "nbconvert_exporter": "python",
   "pygments_lexer": "ipython3",
   "version": "3.8.5"
  }
 },
 "nbformat": 4,
 "nbformat_minor": 4
}
