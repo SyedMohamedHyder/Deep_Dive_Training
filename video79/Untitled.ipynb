{
 "cells": [
  {
   "cell_type": "code",
   "execution_count": 5,
   "metadata": {},
   "outputs": [],
   "source": [
    "from itertools import count, cycle, repeat, islice"
   ]
  },
  {
   "cell_type": "code",
   "execution_count": 6,
   "metadata": {},
   "outputs": [],
   "source": [
    "g = count(10)"
   ]
  },
  {
   "cell_type": "code",
   "execution_count": 7,
   "metadata": {},
   "outputs": [
    {
     "data": {
      "text/plain": [
       "[10, 11, 12, 13, 14]"
      ]
     },
     "execution_count": 7,
     "metadata": {},
     "output_type": "execute_result"
    }
   ],
   "source": [
    "list(islice(g, 5))"
   ]
  },
  {
   "cell_type": "code",
   "execution_count": 8,
   "metadata": {},
   "outputs": [
    {
     "data": {
      "text/plain": [
       "[15, 16, 17, 18, 19]"
      ]
     },
     "execution_count": 8,
     "metadata": {},
     "output_type": "execute_result"
    }
   ],
   "source": [
    "list(islice(g, 5))"
   ]
  },
  {
   "cell_type": "code",
   "execution_count": 9,
   "metadata": {},
   "outputs": [],
   "source": [
    "from decimal import Decimal"
   ]
  },
  {
   "cell_type": "code",
   "execution_count": 10,
   "metadata": {},
   "outputs": [],
   "source": [
    "c = count(Decimal('10.5'))"
   ]
  },
  {
   "cell_type": "code",
   "execution_count": 11,
   "metadata": {},
   "outputs": [
    {
     "name": "stdout",
     "output_type": "stream",
     "text": [
      "10.5\n",
      "11.5\n",
      "12.5\n",
      "13.5\n",
      "14.5\n",
      "15.5\n",
      "16.5\n",
      "17.5\n",
      "18.5\n",
      "19.5\n"
     ]
    }
   ],
   "source": [
    "for _ in range(10):\n",
    "    print(next(c))"
   ]
  },
  {
   "cell_type": "code",
   "execution_count": 12,
   "metadata": {},
   "outputs": [],
   "source": [
    "def colors():\n",
    "    yield 'red'\n",
    "    yield 'green'\n",
    "    yield 'yellow'\n",
    "    yield 'orange'"
   ]
  },
  {
   "cell_type": "code",
   "execution_count": 13,
   "metadata": {},
   "outputs": [],
   "source": [
    "c = cycle(colors())"
   ]
  },
  {
   "cell_type": "code",
   "execution_count": 14,
   "metadata": {},
   "outputs": [
    {
     "data": {
      "text/plain": [
       "['red', 'green', 'yellow', 'orange', 'red', 'green', 'yellow']"
      ]
     },
     "execution_count": 14,
     "metadata": {},
     "output_type": "execute_result"
    }
   ],
   "source": [
    "list(islice(c,7))"
   ]
  },
  {
   "cell_type": "code",
   "execution_count": 15,
   "metadata": {},
   "outputs": [],
   "source": [
    "from collections import namedtuple"
   ]
  },
  {
   "cell_type": "code",
   "execution_count": 16,
   "metadata": {},
   "outputs": [],
   "source": [
    "Card = namedtuple('Card', 'rank suit')"
   ]
  },
  {
   "cell_type": "code",
   "execution_count": 17,
   "metadata": {},
   "outputs": [],
   "source": [
    "def card_deck():\n",
    "    ranks = tuple(range(2,11)) + tuple('JQKA')\n",
    "    suits = 'Spades', 'Hearts', 'Diamonds', 'Clubs'\n",
    "    for suit in suits:\n",
    "        for rank in ranks:\n",
    "            yield Card(rank, suit)"
   ]
  },
  {
   "cell_type": "code",
   "execution_count": 18,
   "metadata": {},
   "outputs": [
    {
     "data": {
      "text/plain": [
       "[Card(rank=2, suit='Spades'),\n",
       " Card(rank=3, suit='Spades'),\n",
       " Card(rank=4, suit='Spades'),\n",
       " Card(rank=5, suit='Spades'),\n",
       " Card(rank=6, suit='Spades'),\n",
       " Card(rank=7, suit='Spades'),\n",
       " Card(rank=8, suit='Spades'),\n",
       " Card(rank=9, suit='Spades'),\n",
       " Card(rank=10, suit='Spades'),\n",
       " Card(rank='J', suit='Spades'),\n",
       " Card(rank='Q', suit='Spades'),\n",
       " Card(rank='K', suit='Spades'),\n",
       " Card(rank='A', suit='Spades')]"
      ]
     },
     "execution_count": 18,
     "metadata": {},
     "output_type": "execute_result"
    }
   ],
   "source": [
    "list(islice(card_deck(), 13))"
   ]
  },
  {
   "cell_type": "code",
   "execution_count": 19,
   "metadata": {},
   "outputs": [],
   "source": [
    "hands = [list() for _ in range(4)]"
   ]
  },
  {
   "cell_type": "code",
   "execution_count": 20,
   "metadata": {},
   "outputs": [
    {
     "data": {
      "text/plain": [
       "[[], [], [], []]"
      ]
     },
     "execution_count": 20,
     "metadata": {},
     "output_type": "execute_result"
    }
   ],
   "source": [
    "hands"
   ]
  },
  {
   "cell_type": "code",
   "execution_count": 21,
   "metadata": {},
   "outputs": [
    {
     "data": {
      "text/plain": [
       "False"
      ]
     },
     "execution_count": 21,
     "metadata": {},
     "output_type": "execute_result"
    }
   ],
   "source": [
    "hands[0] is hands[1]"
   ]
  },
  {
   "cell_type": "code",
   "execution_count": 22,
   "metadata": {},
   "outputs": [],
   "source": [
    "hands_cycle = cycle(hands)\n",
    "for card in card_deck():\n",
    "    next(hands_cycle).append(card)"
   ]
  },
  {
   "cell_type": "code",
   "execution_count": 23,
   "metadata": {},
   "outputs": [
    {
     "data": {
      "text/plain": [
       "[[Card(rank=2, suit='Spades'),\n",
       "  Card(rank=6, suit='Spades'),\n",
       "  Card(rank=10, suit='Spades'),\n",
       "  Card(rank='A', suit='Spades'),\n",
       "  Card(rank=5, suit='Hearts'),\n",
       "  Card(rank=9, suit='Hearts'),\n",
       "  Card(rank='K', suit='Hearts'),\n",
       "  Card(rank=4, suit='Diamonds'),\n",
       "  Card(rank=8, suit='Diamonds'),\n",
       "  Card(rank='Q', suit='Diamonds'),\n",
       "  Card(rank=3, suit='Clubs'),\n",
       "  Card(rank=7, suit='Clubs'),\n",
       "  Card(rank='J', suit='Clubs')],\n",
       " [Card(rank=3, suit='Spades'),\n",
       "  Card(rank=7, suit='Spades'),\n",
       "  Card(rank='J', suit='Spades'),\n",
       "  Card(rank=2, suit='Hearts'),\n",
       "  Card(rank=6, suit='Hearts'),\n",
       "  Card(rank=10, suit='Hearts'),\n",
       "  Card(rank='A', suit='Hearts'),\n",
       "  Card(rank=5, suit='Diamonds'),\n",
       "  Card(rank=9, suit='Diamonds'),\n",
       "  Card(rank='K', suit='Diamonds'),\n",
       "  Card(rank=4, suit='Clubs'),\n",
       "  Card(rank=8, suit='Clubs'),\n",
       "  Card(rank='Q', suit='Clubs')],\n",
       " [Card(rank=4, suit='Spades'),\n",
       "  Card(rank=8, suit='Spades'),\n",
       "  Card(rank='Q', suit='Spades'),\n",
       "  Card(rank=3, suit='Hearts'),\n",
       "  Card(rank=7, suit='Hearts'),\n",
       "  Card(rank='J', suit='Hearts'),\n",
       "  Card(rank=2, suit='Diamonds'),\n",
       "  Card(rank=6, suit='Diamonds'),\n",
       "  Card(rank=10, suit='Diamonds'),\n",
       "  Card(rank='A', suit='Diamonds'),\n",
       "  Card(rank=5, suit='Clubs'),\n",
       "  Card(rank=9, suit='Clubs'),\n",
       "  Card(rank='K', suit='Clubs')],\n",
       " [Card(rank=5, suit='Spades'),\n",
       "  Card(rank=9, suit='Spades'),\n",
       "  Card(rank='K', suit='Spades'),\n",
       "  Card(rank=4, suit='Hearts'),\n",
       "  Card(rank=8, suit='Hearts'),\n",
       "  Card(rank='Q', suit='Hearts'),\n",
       "  Card(rank=3, suit='Diamonds'),\n",
       "  Card(rank=7, suit='Diamonds'),\n",
       "  Card(rank='J', suit='Diamonds'),\n",
       "  Card(rank=2, suit='Clubs'),\n",
       "  Card(rank=6, suit='Clubs'),\n",
       "  Card(rank=10, suit='Clubs'),\n",
       "  Card(rank='A', suit='Clubs')]]"
      ]
     },
     "execution_count": 23,
     "metadata": {},
     "output_type": "execute_result"
    }
   ],
   "source": [
    "hands"
   ]
  },
  {
   "cell_type": "code",
   "execution_count": 26,
   "metadata": {},
   "outputs": [],
   "source": [
    "g = repeat([],4)"
   ]
  },
  {
   "cell_type": "code",
   "execution_count": 27,
   "metadata": {},
   "outputs": [],
   "source": [
    "a = list(g)"
   ]
  },
  {
   "cell_type": "code",
   "execution_count": 28,
   "metadata": {},
   "outputs": [
    {
     "data": {
      "text/plain": [
       "[[], [], [], []]"
      ]
     },
     "execution_count": 28,
     "metadata": {},
     "output_type": "execute_result"
    }
   ],
   "source": [
    "a"
   ]
  },
  {
   "cell_type": "code",
   "execution_count": 29,
   "metadata": {},
   "outputs": [
    {
     "data": {
      "text/plain": [
       "True"
      ]
     },
     "execution_count": 29,
     "metadata": {},
     "output_type": "execute_result"
    }
   ],
   "source": [
    "a[0] is a[1]"
   ]
  },
  {
   "cell_type": "code",
   "execution_count": 30,
   "metadata": {},
   "outputs": [],
   "source": [
    "a[0].append(10)"
   ]
  },
  {
   "cell_type": "code",
   "execution_count": 31,
   "metadata": {},
   "outputs": [
    {
     "data": {
      "text/plain": [
       "[[10], [10], [10], [10]]"
      ]
     },
     "execution_count": 31,
     "metadata": {},
     "output_type": "execute_result"
    }
   ],
   "source": [
    "a"
   ]
  },
  {
   "cell_type": "code",
   "execution_count": 33,
   "metadata": {},
   "outputs": [],
   "source": [
    "a[0][0] = 100"
   ]
  },
  {
   "cell_type": "code",
   "execution_count": 34,
   "metadata": {},
   "outputs": [
    {
     "data": {
      "text/plain": [
       "[[100], [100], [100], [100]]"
      ]
     },
     "execution_count": 34,
     "metadata": {},
     "output_type": "execute_result"
    }
   ],
   "source": [
    "a"
   ]
  },
  {
   "cell_type": "code",
   "execution_count": 35,
   "metadata": {},
   "outputs": [],
   "source": [
    "g = repeat([1,2,3,4],4)"
   ]
  },
  {
   "cell_type": "code",
   "execution_count": 39,
   "metadata": {},
   "outputs": [],
   "source": [
    "from copy import copy"
   ]
  },
  {
   "cell_type": "code",
   "execution_count": 41,
   "metadata": {},
   "outputs": [],
   "source": [
    "a = [copy(item) for item in g]"
   ]
  },
  {
   "cell_type": "code",
   "execution_count": 42,
   "metadata": {},
   "outputs": [
    {
     "data": {
      "text/plain": [
       "[[1, 2, 3, 4], [1, 2, 3, 4], [1, 2, 3, 4], [1, 2, 3, 4]]"
      ]
     },
     "execution_count": 42,
     "metadata": {},
     "output_type": "execute_result"
    }
   ],
   "source": [
    "a"
   ]
  },
  {
   "cell_type": "code",
   "execution_count": 43,
   "metadata": {},
   "outputs": [
    {
     "data": {
      "text/plain": [
       "False"
      ]
     },
     "execution_count": 43,
     "metadata": {},
     "output_type": "execute_result"
    }
   ],
   "source": [
    "a[0] is a[1]"
   ]
  },
  {
   "cell_type": "code",
   "execution_count": 44,
   "metadata": {},
   "outputs": [],
   "source": [
    "a[0][0] = 100"
   ]
  },
  {
   "cell_type": "code",
   "execution_count": 45,
   "metadata": {},
   "outputs": [
    {
     "data": {
      "text/plain": [
       "[[100, 2, 3, 4], [1, 2, 3, 4], [1, 2, 3, 4], [1, 2, 3, 4]]"
      ]
     },
     "execution_count": 45,
     "metadata": {},
     "output_type": "execute_result"
    }
   ],
   "source": [
    "a"
   ]
  },
  {
   "cell_type": "code",
   "execution_count": null,
   "metadata": {},
   "outputs": [],
   "source": []
  }
 ],
 "metadata": {
  "kernelspec": {
   "display_name": "Python 3",
   "language": "python",
   "name": "python3"
  },
  "language_info": {
   "codemirror_mode": {
    "name": "ipython",
    "version": 3
   },
   "file_extension": ".py",
   "mimetype": "text/x-python",
   "name": "python",
   "nbconvert_exporter": "python",
   "pygments_lexer": "ipython3",
   "version": "3.8.5"
  }
 },
 "nbformat": 4,
 "nbformat_minor": 4
}
